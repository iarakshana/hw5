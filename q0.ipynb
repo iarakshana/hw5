{
 "cells": [
  {
   "cell_type": "code",
   "execution_count": 2,
   "metadata": {},
   "outputs": [
    {
     "name": "stderr",
     "output_type": "stream",
     "text": [
      "C:\\Users\\i_a_r\\Anaconda3\\lib\\site-packages\\numpy\\lib\\arraysetops.py:395: FutureWarning: elementwise comparison failed; returning scalar instead, but in the future will perform elementwise comparison\n",
      "  mask |= (ar1 == a)\n"
     ]
    },
    {
     "data": {
      "text/plain": [
       "Primary Type\n",
       "THEFT                                246891\n",
       "BATTERY                              199799\n",
       "CRIMINAL DAMAGE                      116958\n",
       "NARCOTICS                             95695\n",
       "ASSAULT                               69613\n",
       "OTHER OFFENSE                         67866\n",
       "BURGLARY                              58839\n",
       "DECEPTIVE PRACTICE                    54767\n",
       "MOTOR VEHICLE THEFT                   43259\n",
       "ROBBERY                               42608\n",
       "CRIMINAL TRESPASS                     28211\n",
       "WEAPONS VIOLATION                     13086\n",
       "PUBLIC PEACE VIOLATION                10010\n",
       "OFFENSE INVOLVING CHILDREN             8408\n",
       "PROSTITUTION                           5364\n",
       "CRIM SEXUAL ASSAULT                    4937\n",
       "INTERFERENCE WITH PUBLIC OFFICER       4908\n",
       "SEX OFFENSE                            3478\n",
       "HOMICIDE                               2058\n",
       "ARSON                                  1701\n",
       "GAMBLING                               1487\n",
       "LIQUOR LAW VIOLATION                   1355\n",
       "KIDNAPPING                              837\n",
       "STALKING                                567\n",
       "INTIMIDATION                            487\n",
       "OBSCENITY                               142\n",
       "CONCEALED CARRY LICENSE VIOLATION        84\n",
       "NON-CRIMINAL                             73\n",
       "PUBLIC INDECENCY                         44\n",
       "NON - CRIMINAL                           38\n",
       "OTHER NARCOTIC VIOLATION                 24\n",
       "HUMAN TRAFFICKING                        20\n",
       "NON-CRIMINAL (SUBJECT SPECIFIED)          2\n",
       "Name: Arrest, dtype: int64"
      ]
     },
     "execution_count": 2,
     "metadata": {},
     "output_type": "execute_result"
    }
   ],
   "source": [
    "#Which primary type of crime resulted in the most arrests? Use df.groupby(..).count(..).\n",
    "import pandas as pd\n",
    "\n",
    "df = pd.read_csv(\"chicago_crime.csv\", index_col = \"ID\")\n",
    "#df_q0 = df[[\"Primary Type\", \"Arrest\"]]\n",
    "#df_q0.head(5)\n",
    "df.dropna(inplace = True)\n",
    "df.groupby('Primary Type')['Arrest'].count().sort_values(ascending = False)"
   ]
  }
 ],
 "metadata": {
  "kernelspec": {
   "display_name": "Python 3",
   "language": "python",
   "name": "python3"
  },
  "language_info": {
   "codemirror_mode": {
    "name": "ipython",
    "version": 3
   },
   "file_extension": ".py",
   "mimetype": "text/x-python",
   "name": "python",
   "nbconvert_exporter": "python",
   "pygments_lexer": "ipython3",
   "version": "3.6.2"
  }
 },
 "nbformat": 4,
 "nbformat_minor": 2
}
