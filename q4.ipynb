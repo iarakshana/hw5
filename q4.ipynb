{
 "cells": [
  {
   "cell_type": "code",
   "execution_count": 62,
   "metadata": {},
   "outputs": [
    {
     "name": "stderr",
     "output_type": "stream",
     "text": [
      "C:\\Users\\i_a_r\\Anaconda3\\lib\\site-packages\\numpy\\lib\\arraysetops.py:395: FutureWarning: elementwise comparison failed; returning scalar instead, but in the future will perform elementwise comparison\n",
      "  mask |= (ar1 == a)\n"
     ]
    },
    {
     "data": {
      "text/plain": [
       "Series([], dtype: int64)"
      ]
     },
     "execution_count": 62,
     "metadata": {},
     "output_type": "execute_result"
    }
   ],
   "source": [
    "#regression with y = homicides per ward and x = weapons violations per ward. What is the slope? \n",
    "#What is its error? Use scipy.stats.linregress.\n",
    "#N.B., you may find that not all wards have crimes or homicides, when you count by ward.\n",
    "#If so, you may need to use fillna(0, inplace = True) to specify that there weren't any. \n",
    "#Make sure you have 50 wards!\n",
    "\n",
    "import pandas as pd\n",
    "import matplotlib.pyplot as plt\n",
    "import scipy\n",
    "from scipy.stats import linregress\n",
    "df = pd.read_csv(\"chicago_crime.csv\", index_col = \"ID\")\n",
    "df\n",
    "#df.fillna(0, inplace = True)\n",
    "df_x = df.groupby(\"Ward\")[\"Primary Type\"].count()\n",
    "#df_x\n",
    "\n",
    "weapons = df[df[\"Primary Type\"].str.contains(\"WEAPONS VIOLATION\")]\n",
    "weaponsw = weapons.groupby(\"Ward\").fillna(0, inplace = True).count()\n",
    "weaponsw\n",
    "#homicides = df[df[\"Primary Type\"].str.contains(\"HOMICIDE\")]\n",
    "#homicidesw = homicides.groupby(\"Ward\").fillna(0, inplace = True).count()\n",
    "#merged = weaponsw.join(homicidesw)\n",
    "#xweapons = weaponsw[\"X Coordinate\"].tolist()\n",
    "#yhomicides = homicidesw[\"Y Coordinate\"].tolist()\n",
    "#xweapons\n",
    "#xweapons\n",
    "#stats.linregress(xweapons, yhomicides)\n",
    "#yhomicides\n",
    "#x = weaponsw[\"X Coordinate\"]\n",
    "#y = homicidesw[\"Y Coordinate\"]\n",
    "#slope, intercept, r_value, p_value, std_err = stats.linregress(x, y)\n",
    "\n",
    "# solution should hold a tuple of slope and error.\n",
    "\n",
    "#slope, error = 1, 2\n",
    "#solution = (slope, error)\n",
    "#print(solution)\n"
   ]
  }
 ],
 "metadata": {
  "kernelspec": {
   "display_name": "Python 3",
   "language": "python",
   "name": "python3"
  },
  "language_info": {
   "codemirror_mode": {
    "name": "ipython",
    "version": 3
   },
   "file_extension": ".py",
   "mimetype": "text/x-python",
   "name": "python",
   "nbconvert_exporter": "python",
   "pygments_lexer": "ipython3",
   "version": "3.6.2"
  }
 },
 "nbformat": 4,
 "nbformat_minor": 2
}
